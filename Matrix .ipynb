{
 "cells": [
  {
   "cell_type": "code",
   "execution_count": 1,
   "id": "d7b421b6",
   "metadata": {
    "_cell_guid": "b1076dfc-b9ad-4769-8c92-a6c4dae69d19",
    "_uuid": "8f2839f25d086af736a60e9eeb907d3b93b6e0e5",
    "execution": {
     "iopub.execute_input": "2023-04-16T17:45:25.918767Z",
     "iopub.status.busy": "2023-04-16T17:45:25.917568Z",
     "iopub.status.idle": "2023-04-16T17:45:25.927922Z",
     "shell.execute_reply": "2023-04-16T17:45:25.926604Z"
    },
    "papermill": {
     "duration": 0.017613,
     "end_time": "2023-04-16T17:45:25.930629",
     "exception": false,
     "start_time": "2023-04-16T17:45:25.913016",
     "status": "completed"
    },
    "tags": []
   },
   "outputs": [],
   "source": [
    "# This Python 3 environment comes with many helpful analytics libraries installed\n",
    "# It is defined by the kaggle/python Docker image: https://github.com/kaggle/docker-python\n",
    "# For example, here's several helpful packages to load\n",
    "\n",
    "import numpy as np # linear algebra\n",
    "import pandas as pd # data processing, CSV file I/O (e.g. pd.read_csv)\n",
    "\n",
    "# Input data files are available in the read-only \"../input/\" directory\n",
    "# For example, running this (by clicking run or pressing Shift+Enter) will list all files under the input directory\n",
    "\n",
    "import os\n",
    "for dirname, _, filenames in os.walk('/kaggle/input'):\n",
    "    for filename in filenames:\n",
    "        print(os.path.join(dirname, filename))\n",
    "\n",
    "# You can write up to 20GB to the current directory (/kaggle/working/) that gets preserved as output when you create a version using \"Save & Run All\" \n",
    "# You can also write temporary files to /kaggle/temp/, but they won't be saved outside of the current session"
   ]
  },
  {
   "cell_type": "code",
   "execution_count": 2,
   "id": "f9415696",
   "metadata": {
    "execution": {
     "iopub.execute_input": "2023-04-16T17:45:25.936586Z",
     "iopub.status.busy": "2023-04-16T17:45:25.936262Z",
     "iopub.status.idle": "2023-04-16T17:45:25.940347Z",
     "shell.execute_reply": "2023-04-16T17:45:25.939696Z"
    },
    "papermill": {
     "duration": 0.008728,
     "end_time": "2023-04-16T17:45:25.941846",
     "exception": false,
     "start_time": "2023-04-16T17:45:25.933118",
     "status": "completed"
    },
    "tags": []
   },
   "outputs": [],
   "source": [
    "# Enter an r by c matrix M (r and c being the positive integers)\n",
    "\n",
    "#r = 3\n",
    "#c = 2\n",
    "M = np.array([[2,2,1], [2,1,4], [3,1,2]])"
   ]
  },
  {
   "cell_type": "code",
   "execution_count": 3,
   "id": "85f27340",
   "metadata": {
    "execution": {
     "iopub.execute_input": "2023-04-16T17:45:25.948388Z",
     "iopub.status.busy": "2023-04-16T17:45:25.947405Z",
     "iopub.status.idle": "2023-04-16T17:45:25.955525Z",
     "shell.execute_reply": "2023-04-16T17:45:25.954498Z"
    },
    "papermill": {
     "duration": 0.013296,
     "end_time": "2023-04-16T17:45:25.957401",
     "exception": false,
     "start_time": "2023-04-16T17:45:25.944105",
     "status": "completed"
    },
    "tags": []
   },
   "outputs": [
    {
     "name": "stdout",
     "output_type": "stream",
     "text": [
      "Matrix M :\n",
      "[[2 2 1]\n",
      " [2 1 4]\n",
      " [3 1 2]]\n"
     ]
    }
   ],
   "source": [
    "# Display M in matrix format\n",
    "\n",
    "print(\"Matrix M :\")\n",
    "print(M)"
   ]
  },
  {
   "cell_type": "code",
   "execution_count": 4,
   "id": "348398d5",
   "metadata": {
    "execution": {
     "iopub.execute_input": "2023-04-16T17:45:25.963897Z",
     "iopub.status.busy": "2023-04-16T17:45:25.962861Z",
     "iopub.status.idle": "2023-04-16T17:45:25.969686Z",
     "shell.execute_reply": "2023-04-16T17:45:25.968391Z"
    },
    "papermill": {
     "duration": 0.012271,
     "end_time": "2023-04-16T17:45:25.971869",
     "exception": false,
     "start_time": "2023-04-16T17:45:25.959598",
     "status": "completed"
    },
    "tags": []
   },
   "outputs": [
    {
     "name": "stdout",
     "output_type": "stream",
     "text": [
      "Row of M:\n",
      "[2 2 1]\n",
      "[2 1 4]\n",
      "[3 1 2]\n",
      "Column of M:\n",
      "[2 2 3]\n",
      "[2 1 1]\n",
      "[1 4 2]\n"
     ]
    }
   ],
   "source": [
    "# Display the rows and columns of the matrix M\n",
    "\n",
    "print(\"Row of M:\")\n",
    "for row in M:\n",
    "    print(row)\n",
    "   \n",
    "print(\"Column of M:\")\n",
    "for col in M.T:\n",
    "    print(col)"
   ]
  },
  {
   "cell_type": "code",
   "execution_count": 5,
   "id": "ff060a4a",
   "metadata": {
    "execution": {
     "iopub.execute_input": "2023-04-16T17:45:25.977680Z",
     "iopub.status.busy": "2023-04-16T17:45:25.977382Z",
     "iopub.status.idle": "2023-04-16T17:45:25.982766Z",
     "shell.execute_reply": "2023-04-16T17:45:25.981699Z"
    },
    "papermill": {
     "duration": 0.010517,
     "end_time": "2023-04-16T17:45:25.984589",
     "exception": false,
     "start_time": "2023-04-16T17:45:25.974072",
     "status": "completed"
    },
    "tags": []
   },
   "outputs": [
    {
     "name": "stdout",
     "output_type": "stream",
     "text": [
      "M multiplied by 2 :\n",
      "[[4 4 2]\n",
      " [4 2 8]\n",
      " [6 2 4]]\n"
     ]
    }
   ],
   "source": [
    "# Find the scalar multiplication of M for a given scalar\n",
    "\n",
    "scalar = 2\n",
    "M_scalar = scalar*M\n",
    "print(f\"M multiplied by {scalar} :\")\n",
    "print(M_scalar)"
   ]
  },
  {
   "cell_type": "code",
   "execution_count": 6,
   "id": "bcee569e",
   "metadata": {
    "execution": {
     "iopub.execute_input": "2023-04-16T17:45:25.990962Z",
     "iopub.status.busy": "2023-04-16T17:45:25.990364Z",
     "iopub.status.idle": "2023-04-16T17:45:25.995454Z",
     "shell.execute_reply": "2023-04-16T17:45:25.994269Z"
    },
    "papermill": {
     "duration": 0.010313,
     "end_time": "2023-04-16T17:45:25.997090",
     "exception": false,
     "start_time": "2023-04-16T17:45:25.986777",
     "status": "completed"
    },
    "tags": []
   },
   "outputs": [
    {
     "name": "stdout",
     "output_type": "stream",
     "text": [
      "Transpose of M :\n",
      "[[2 2 3]\n",
      " [2 1 1]\n",
      " [1 4 2]]\n"
     ]
    }
   ],
   "source": [
    "#  Find the transpose of the matrix M\n",
    "\n",
    "M_transpose = M.T\n",
    "print(\"Transpose of M :\")\n",
    "print(M_transpose)"
   ]
  }
 ],
 "metadata": {
  "kernelspec": {
   "display_name": "Python 3",
   "language": "python",
   "name": "python3"
  },
  "language_info": {
   "codemirror_mode": {
    "name": "ipython",
    "version": 3
   },
   "file_extension": ".py",
   "mimetype": "text/x-python",
   "name": "python",
   "nbconvert_exporter": "python",
   "pygments_lexer": "ipython3",
   "version": "3.7.12"
  },
  "papermill": {
   "default_parameters": {},
   "duration": 9.884766,
   "end_time": "2023-04-16T17:45:26.621499",
   "environment_variables": {},
   "exception": null,
   "input_path": "__notebook__.ipynb",
   "output_path": "__notebook__.ipynb",
   "parameters": {},
   "start_time": "2023-04-16T17:45:16.736733",
   "version": "2.4.0"
  }
 },
 "nbformat": 4,
 "nbformat_minor": 5
}
