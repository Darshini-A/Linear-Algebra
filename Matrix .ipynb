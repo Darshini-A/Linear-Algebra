{
 "cells": [
  {
   "cell_type": "code",
   "execution_count": 1,
   "id": "e83123f2",
   "metadata": {
    "_cell_guid": "b1076dfc-b9ad-4769-8c92-a6c4dae69d19",
    "_uuid": "8f2839f25d086af736a60e9eeb907d3b93b6e0e5",
    "execution": {
     "iopub.execute_input": "2023-04-16T18:31:52.536377Z",
     "iopub.status.busy": "2023-04-16T18:31:52.535386Z",
     "iopub.status.idle": "2023-04-16T18:31:52.547965Z",
     "shell.execute_reply": "2023-04-16T18:31:52.546068Z"
    },
    "papermill": {
     "duration": 0.020355,
     "end_time": "2023-04-16T18:31:52.551037",
     "exception": false,
     "start_time": "2023-04-16T18:31:52.530682",
     "status": "completed"
    },
    "tags": []
   },
   "outputs": [],
   "source": [
    "# This Python 3 environment comes with many helpful analytics libraries installed\n",
    "# It is defined by the kaggle/python Docker image: https://github.com/kaggle/docker-python\n",
    "# For example, here's several helpful packages to load\n",
    "\n",
    "import numpy as np # linear algebra\n",
    "import pandas as pd # data processing, CSV file I/O (e.g. pd.read_csv)\n",
    "\n",
    "# Input data files are available in the read-only \"../input/\" directory\n",
    "# For example, running this (by clicking run or pressing Shift+Enter) will list all files under the input directory\n",
    "\n",
    "import os\n",
    "for dirname, _, filenames in os.walk('/kaggle/input'):\n",
    "    for filename in filenames:\n",
    "        print(os.path.join(dirname, filename))\n",
    "\n",
    "# You can write up to 20GB to the current directory (/kaggle/working/) that gets preserved as output when you create a version using \"Save & Run All\" \n",
    "# You can also write temporary files to /kaggle/temp/, but they won't be saved outside of the current session"
   ]
  },
  {
   "cell_type": "code",
   "execution_count": 2,
   "id": "ccaf509e",
   "metadata": {
    "execution": {
     "iopub.execute_input": "2023-04-16T18:31:52.558159Z",
     "iopub.status.busy": "2023-04-16T18:31:52.557149Z",
     "iopub.status.idle": "2023-04-16T18:31:52.563863Z",
     "shell.execute_reply": "2023-04-16T18:31:52.562160Z"
    },
    "papermill": {
     "duration": 0.013038,
     "end_time": "2023-04-16T18:31:52.566686",
     "exception": false,
     "start_time": "2023-04-16T18:31:52.553648",
     "status": "completed"
    },
    "tags": []
   },
   "outputs": [],
   "source": [
    "# Enter an r by c matrix M (r and c being the positive integers)\n",
    "\n",
    "M = [[1, 1, 2], [1, 1, 3], [3, 1, 2]]"
   ]
  },
  {
   "cell_type": "code",
   "execution_count": 3,
   "id": "99c6e1d8",
   "metadata": {
    "execution": {
     "iopub.execute_input": "2023-04-16T18:31:52.573161Z",
     "iopub.status.busy": "2023-04-16T18:31:52.572826Z",
     "iopub.status.idle": "2023-04-16T18:31:52.578851Z",
     "shell.execute_reply": "2023-04-16T18:31:52.577468Z"
    },
    "papermill": {
     "duration": 0.012085,
     "end_time": "2023-04-16T18:31:52.581248",
     "exception": false,
     "start_time": "2023-04-16T18:31:52.569163",
     "status": "completed"
    },
    "tags": []
   },
   "outputs": [
    {
     "name": "stdout",
     "output_type": "stream",
     "text": [
      "Matrix M :\n",
      "1 1 2 \n",
      "1 1 3 \n",
      "3 1 2 \n"
     ]
    }
   ],
   "source": [
    "# Display M in matrix format\n",
    "\n",
    "print(\"Matrix M :\")\n",
    "for row in M:\n",
    "    for num in row:\n",
    "        print(num, end =' ')\n",
    "    print()\n"
   ]
  },
  {
   "cell_type": "code",
   "execution_count": 4,
   "id": "51340835",
   "metadata": {
    "execution": {
     "iopub.execute_input": "2023-04-16T18:31:52.587679Z",
     "iopub.status.busy": "2023-04-16T18:31:52.587284Z",
     "iopub.status.idle": "2023-04-16T18:31:52.594488Z",
     "shell.execute_reply": "2023-04-16T18:31:52.593193Z"
    },
    "papermill": {
     "duration": 0.012861,
     "end_time": "2023-04-16T18:31:52.596600",
     "exception": false,
     "start_time": "2023-04-16T18:31:52.583739",
     "status": "completed"
    },
    "tags": []
   },
   "outputs": [
    {
     "name": "stdout",
     "output_type": "stream",
     "text": [
      "Rows of M:\n",
      "[1, 1, 2]\n",
      "[1, 1, 3]\n",
      "[3, 1, 2]\n",
      "\n",
      " Columns of M:\n",
      "[1, 1, 3]\n",
      "[1, 1, 1]\n",
      "[2, 3, 2]\n"
     ]
    }
   ],
   "source": [
    "# Display the rows and columns of the matrix M\n",
    "\n",
    "print(\"Rows of M:\")\n",
    "for row in M:\n",
    "    print(row)\n",
    "    \n",
    "print(\"\\n\",\"Columns of M:\")\n",
    "ncol = len(M[0])\n",
    "for col in range(ncol):\n",
    "    column = [M[row][col] for row in range(len(M))]\n",
    "    print(column)"
   ]
  },
  {
   "cell_type": "code",
   "execution_count": 5,
   "id": "46ca1d94",
   "metadata": {
    "execution": {
     "iopub.execute_input": "2023-04-16T18:31:52.602847Z",
     "iopub.status.busy": "2023-04-16T18:31:52.602493Z",
     "iopub.status.idle": "2023-04-16T18:31:52.609289Z",
     "shell.execute_reply": "2023-04-16T18:31:52.607938Z"
    },
    "papermill": {
     "duration": 0.012252,
     "end_time": "2023-04-16T18:31:52.611175",
     "exception": false,
     "start_time": "2023-04-16T18:31:52.598923",
     "status": "completed"
    },
    "tags": []
   },
   "outputs": [
    {
     "name": "stdout",
     "output_type": "stream",
     "text": [
      "Multiplication of M by scalar 2 :\n",
      "2 2 4 \n",
      "2 2 6 \n",
      "6 2 4 \n"
     ]
    }
   ],
   "source": [
    "# Find the scalar multiplication of M for a given scalar\n",
    "\n",
    "s = 2\n",
    "print(\"Multiplication of M by scalar\",s ,\":\")\n",
    "Ms = [[s * x for x in row] for row in M]\n",
    "for row in Ms:\n",
    "    for num in row:\n",
    "        print(num, end =' ')\n",
    "    print()"
   ]
  },
  {
   "cell_type": "code",
   "execution_count": 6,
   "id": "d77c13da",
   "metadata": {
    "execution": {
     "iopub.execute_input": "2023-04-16T18:31:52.617419Z",
     "iopub.status.busy": "2023-04-16T18:31:52.617066Z",
     "iopub.status.idle": "2023-04-16T18:31:52.623592Z",
     "shell.execute_reply": "2023-04-16T18:31:52.622417Z"
    },
    "papermill": {
     "duration": 0.012282,
     "end_time": "2023-04-16T18:31:52.625884",
     "exception": false,
     "start_time": "2023-04-16T18:31:52.613602",
     "status": "completed"
    },
    "tags": []
   },
   "outputs": [
    {
     "name": "stdout",
     "output_type": "stream",
     "text": [
      "Transpose of M :\n",
      "1 1 3 \n",
      "1 1 1 \n",
      "2 3 2 \n"
     ]
    }
   ],
   "source": [
    "#  Find the transpose of the matrix M\n",
    "\n",
    "print(\"Transpose of M :\")\n",
    "transpose = [[M[j][i] for j in range(len(M))] for i in range(len(M[0]))]\n",
    "for row in transpose:\n",
    "    for num in row:\n",
    "        print(num, end =' ')\n",
    "    print()"
   ]
  }
 ],
 "metadata": {
  "kernelspec": {
   "display_name": "Python 3",
   "language": "python",
   "name": "python3"
  },
  "language_info": {
   "codemirror_mode": {
    "name": "ipython",
    "version": 3
   },
   "file_extension": ".py",
   "mimetype": "text/x-python",
   "name": "python",
   "nbconvert_exporter": "python",
   "pygments_lexer": "ipython3",
   "version": "3.7.12"
  },
  "papermill": {
   "default_parameters": {},
   "duration": 12.499368,
   "end_time": "2023-04-16T18:31:55.769130",
   "environment_variables": {},
   "exception": null,
   "input_path": "__notebook__.ipynb",
   "output_path": "__notebook__.ipynb",
   "parameters": {},
   "start_time": "2023-04-16T18:31:43.269762",
   "version": "2.4.0"
  }
 },
 "nbformat": 4,
 "nbformat_minor": 5
}
