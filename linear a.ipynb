{
 "cells": [
  {
   "cell_type": "markdown",
   "id": "c27ef217",
   "metadata": {},
   "source": [
    "# Practical 1:"
   ]
  },
  {
   "cell_type": "markdown",
   "id": "b500126f",
   "metadata": {},
   "source": [
    "# Write a program which demonstrates the following:"
   ]
  },
  {
   "cell_type": "markdown",
   "id": "d2efb060",
   "metadata": {},
   "source": [
    "a. Addition of two complex numbers\n"
   ]
  },
  {
   "cell_type": "code",
   "execution_count": 1,
   "id": "c86baad6",
   "metadata": {},
   "outputs": [
    {
     "name": "stdout",
     "output_type": "stream",
     "text": [
      "Enter Complex number c1:4+7j\n"
     ]
    }
   ],
   "source": [
    "c1=complex(input(\"Enter Complex number c1:\"))"
   ]
  },
  {
   "cell_type": "code",
   "execution_count": 2,
   "id": "ed31103d",
   "metadata": {},
   "outputs": [
    {
     "name": "stdout",
     "output_type": "stream",
     "text": [
      "Enter Complex number c2:4+6j\n"
     ]
    }
   ],
   "source": [
    "c2=complex(input(\"Enter Complex number c2:\"))"
   ]
  },
  {
   "cell_type": "code",
   "execution_count": 3,
   "id": "468fb23b",
   "metadata": {},
   "outputs": [
    {
     "name": "stdout",
     "output_type": "stream",
     "text": [
      "Addition )of 2 complex numbers:  (8+13j)\n"
     ]
    }
   ],
   "source": [
    "print(\"Addition )of 2 complex numbers: \",c1+c2)"
   ]
  },
  {
   "cell_type": "markdown",
   "id": "b1cc3a14",
   "metadata": {},
   "source": [
    "b.Displaying the conjugate of a complex number"
   ]
  },
  {
   "cell_type": "code",
   "execution_count": 4,
   "id": "b74ef40a",
   "metadata": {},
   "outputs": [
    {
     "name": "stdout",
     "output_type": "stream",
     "text": [
      "Enter Complex number:6+5j\n"
     ]
    }
   ],
   "source": [
    "s1=complex(input(\"Enter Complex number:\"))"
   ]
  },
  {
   "cell_type": "code",
   "execution_count": 5,
   "id": "654b8218",
   "metadata": {},
   "outputs": [
    {
     "name": "stdout",
     "output_type": "stream",
     "text": [
      "(6-5j)\n"
     ]
    }
   ],
   "source": [
    "print(s1.conjugate())"
   ]
  },
  {
   "cell_type": "markdown",
   "id": "5e3fb84c",
   "metadata": {},
   "source": [
    "c. Plotting a set of complex numbers\n"
   ]
  },
  {
   "cell_type": "code",
   "execution_count": 6,
   "id": "a909211c",
   "metadata": {},
   "outputs": [],
   "source": [
    "import matplotlib.pyplot as plt\n",
    "def plot(S):\n",
    "    S1={x for x in S}\n",
    "    X=[x.real for x in S1]\n",
    "    Y=[x.imag for x in S1]\n",
    "    plt.plot(X,Y,'ro')\n",
    "    plt.axis([-8,8,-8,8])\n",
    "    plt.show()"
   ]
  },
  {
   "cell_type": "code",
   "execution_count": 7,
   "id": "21992f2b",
   "metadata": {},
   "outputs": [
    {
     "data": {
      "image/png": "[encoded data removed]",
      "text/plain": [
       "<Figure size 432x288 with 1 Axes>"
      ]
     },
     "metadata": {
      "needs_background": "light"
     },
     "output_type": "display_data"
    }
   ],
   "source": [
    "S = {3+3j, 4+3j , 2+1j, 2.5+1j, 3.25+1j}\n",
    "plot(S)"
   ]
  },
  {
   "cell_type": "markdown",
   "id": "8895a2d8",
   "metadata": {},
   "source": [
    "d. Creating a new plot by rotating the given number by a degree 90, 180, 270 degrees and also by scaling by a number a=1/2, a=1/3, a=2 etc.\n",
    "\n",
    "\n"
   ]
  },
  {
   "cell_type": "code",
   "execution_count": 8,
   "id": "4a7e7ee0",
   "metadata": {},
   "outputs": [
    {
     "name": "stdout",
     "output_type": "stream",
     "text": [
      "Enter Angle of Rotation:90\n",
      "{(-1+2j), (-1+2.5j), (-3+3j), (-1+3.25j), (-3+4j)}\n"
     ]
    },
    {
     "data": {
      "image/png": "[encoded data removed]",
      "text/plain": [
       "<Figure size 432x288 with 1 Axes>"
      ]
     },
     "metadata": {
      "needs_background": "light"
     },
     "output_type": "display_data"
    }
   ],
   "source": [
    "angle = int(input(\"Enter Angle of Rotation:\"))\n",
    "if angle==90:\n",
    "    S1= {x*1j for x in S}\n",
    "    print(S1)\n",
    "    plot(S1)\n",
    "elif angle==180:\n",
    "    S1={x*(-1) for x in S}\n",
    "    print(S1)\n",
    "    plot(S1)\n",
    "elif angle==270:\n",
    "    S1={x*1j*(-1) for x in S}\n",
    "    print(S1)\n",
    "    plot(S1)\n",
    "else:\n",
    " print(\"Invalid Angle entered\")"
   ]
  },
  {
   "cell_type": "code",
   "execution_count": 9,
   "id": "323648ca",
   "metadata": {},
   "outputs": [
    {
     "name": "stdout",
     "output_type": "stream",
     "text": [
      "Enter Scale point like (.5) for 1/2:2\n",
      "{(4+2j), (5+2j), (6.5+2j), (6+6j), (8+6j)}\n"
     ]
    },
    {
     "data": {
      "image/png": "[encoded data removed]",
      "text/plain": [
       "<Figure size 432x288 with 1 Axes>"
      ]
     },
     "metadata": {
      "needs_background": "light"
     },
     "output_type": "display_data"
    }
   ],
   "source": [
    "scale = float(input(\"Enter Scale point like (.5) for 1/2:\"))\n",
    "S1 = {x*scale for x in S}\n",
    "print(S1)\n",
    "plot(S1)\n",
    "\n"
   ]
  },
  {
   "cell_type": "markdown",
   "id": "82a323c5",
   "metadata": {},
   "source": [
    "# pratical 2"
   ]
  },
  {
   "cell_type": "markdown",
   "id": "98afd699",
   "metadata": {},
   "source": [
    "Q.write a program to do the following:"
   ]
  },
  {
   "cell_type": "markdown",
   "id": "7cdcad83",
   "metadata": {},
   "source": [
    "a. Enter two distinct faces as vectors u and v."
   ]
  },
  {
   "cell_type": "code",
   "execution_count": 10,
   "id": "6a0e2ae9",
   "metadata": {},
   "outputs": [],
   "source": [
    "import numpy as np\n"
   ]
  },
  {
   "cell_type": "code",
   "execution_count": 11,
   "id": "635f2691",
   "metadata": {},
   "outputs": [],
   "source": [
    "u=np.array([1,2,3])"
   ]
  },
  {
   "cell_type": "code",
   "execution_count": 12,
   "id": "fa99369f",
   "metadata": {},
   "outputs": [],
   "source": [
    "v=np.array([4,5,6])"
   ]
  },
  {
   "cell_type": "markdown",
   "id": "4a37c69e",
   "metadata": {},
   "source": [
    "b. Find a new face as a linear combination of u and v i.e. au+bv for a and b"
   ]
  },
  {
   "cell_type": "code",
   "execution_count": 17,
   "id": "44c06f67",
   "metadata": {},
   "outputs": [
    {
     "name": "stdout",
     "output_type": "stream",
     "text": [
      "New Face: [array([2.5, 3.5, 4.5])]\n"
     ]
    }
   ],
   "source": [
    "a=0.5\n",
    "b=0.5\n",
    "new_face = [a*u+b*v]\n",
    "print(\"New Face:\",new_face)"
   ]
  },
  {
   "cell_type": "markdown",
   "id": "3e346c14",
   "metadata": {},
   "source": [
    "c. Find the average face of the original faces."
   ]
  },
  {
   "cell_type": "code",
   "execution_count": 18,
   "id": "5f11c02e",
   "metadata": {},
   "outputs": [
    {
     "name": "stdout",
     "output_type": "stream",
     "text": [
      "Average face: [array([2.5, 3.5, 4.5])]\n"
     ]
    }
   ],
   "source": [
    "avg_face=[(u+v)/2]\n",
    "print(\"Average face:\",avg_face)"
   ]
  },
  {
   "cell_type": "markdown",
   "id": "287a8803",
   "metadata": {},
   "source": [
    "# Practical 3\n"
   ]
  },
  {
   "cell_type": "markdown",
   "id": "cbd8c372",
   "metadata": {},
   "source": [
    "Write a program to do the following:"
   ]
  },
  {
   "cell_type": "markdown",
   "id": "591d5f5a",
   "metadata": {},
   "source": [
    "a. Enter a vector u as a n-list"
   ]
  },
  {
   "cell_type": "code",
   "execution_count": 19,
   "id": "0b197dac",
   "metadata": {},
   "outputs": [],
   "source": [
    "import numpy as np"
   ]
  },
  {
   "cell_type": "code",
   "execution_count": 26,
   "id": "92422489",
   "metadata": {},
   "outputs": [
    {
     "data": {
      "text/plain": [
       "array([1, 2, 3])"
      ]
     },
     "execution_count": 26,
     "metadata": {},
     "output_type": "execute_result"
    }
   ],
   "source": [
    "u=np.array([1,2,3])\n",
    "u"
   ]
  },
  {
   "cell_type": "markdown",
   "id": "ab4b3cdd",
   "metadata": {},
   "source": [
    "b. Enter another vector v as a n-list"
   ]
  },
  {
   "cell_type": "code",
   "execution_count": 27,
   "id": "92ae13de",
   "metadata": {},
   "outputs": [
    {
     "data": {
      "text/plain": [
       "array([4, 5, 6])"
      ]
     },
     "execution_count": 27,
     "metadata": {},
     "output_type": "execute_result"
    }
   ],
   "source": [
    "v=np.array([4,5,6])\n",
    "v"
   ]
  },
  {
   "cell_type": "markdown",
   "id": "4c0a5882",
   "metadata": {},
   "source": [
    "c. Find the vector au+bv for different values of a and b"
   ]
  },
  {
   "cell_type": "code",
   "execution_count": 29,
   "id": "069949ed",
   "metadata": {},
   "outputs": [
    {
     "name": "stdout",
     "output_type": "stream",
     "text": [
      "a=0.5,b=0.2,new vector:[array([1.3, 2. , 2.7])]\n",
      "a=0.5,b=0.4,new vector:[array([2.1, 3. , 3.9])]\n",
      "a=0.5,b=0.6,new vector:[array([2.9, 4. , 5.1])]\n",
      "a=1.0,b=0.2,new vector:[array([1.8, 3. , 4.2])]\n",
      "a=1.0,b=0.4,new vector:[array([2.6, 4. , 5.4])]\n",
      "a=1.0,b=0.6,new vector:[array([3.4, 5. , 6.6])]\n",
      "a=1.5,b=0.2,new vector:[array([2.3, 4. , 5.7])]\n",
      "a=1.5,b=0.4,new vector:[array([3.1, 5. , 6.9])]\n",
      "a=1.5,b=0.6,new vector:[array([3.9, 6. , 8.1])]\n",
      "Dot product of u and v : 32\n"
     ]
    }
   ],
   "source": [
    "a_values=[0.5,1.0,1.5]\n",
    "b_values=[0.2,0.4,0.6]\n",
    "for a in a_values:\n",
    "    for b in b_values:\n",
    "        new_vector=[a*u+b*v]\n",
    "        print(f\"a={a},b={b},new vector:{new_vector}\")\n",
    "        \n",
    "dot_product=np.dot(u,v)\n",
    "print(\"Dot product of u and v :\",dot_product)"
   ]
  },
  {
   "cell_type": "markdown",
   "id": "1738d623",
   "metadata": {},
   "source": [
    "# Practical 4"
   ]
  },
  {
   "cell_type": "markdown",
   "id": "c9277c9f",
   "metadata": {},
   "source": [
    ": Write a program to do the following:\n"
   ]
  },
  {
   "cell_type": "markdown",
   "id": "a77af0b5",
   "metadata": {},
   "source": [
    "a. Enter an r by c matrix M (r and c being positive integers)"
   ]
  },
  {
   "cell_type": "code",
   "execution_count": 30,
   "id": "395a492e",
   "metadata": {},
   "outputs": [],
   "source": [
    "import numpy as np\n",
    "r=3\n",
    "c=2\n",
    "M=np.array([[1,2],[3,4],[5,6]])"
   ]
  },
  {
   "cell_type": "markdown",
   "id": "705b54a4",
   "metadata": {},
   "source": [
    "b. Display M in matrix format\n"
   ]
  },
  {
   "cell_type": "code",
   "execution_count": 32,
   "id": "31990c98",
   "metadata": {},
   "outputs": [
    {
     "name": "stdout",
     "output_type": "stream",
     "text": [
      "Matrix M:\n",
      "[[1 2]\n",
      " [3 4]\n",
      " [5 6]]\n"
     ]
    }
   ],
   "source": [
    "print(\"Matrix M:\")\n",
    "print(M)\n"
   ]
  },
  {
   "cell_type": "markdown",
   "id": "5144a14c",
   "metadata": {},
   "source": [
    "c. Display the rows and columns of the matrix M"
   ]
  },
  {
   "cell_type": "code",
   "execution_count": 36,
   "id": "08512fd5",
   "metadata": {},
   "outputs": [
    {
     "name": "stdout",
     "output_type": "stream",
     "text": [
      "Row of M:\n",
      "[1 2]\n",
      "[3 4]\n",
      "[5 6]\n",
      "Column of M:\n",
      "[1 3 5]\n",
      "[2 4 6]\n"
     ]
    }
   ],
   "source": [
    "print(\"Row of M:\")\n",
    "for row in M:\n",
    "    print(row)\n",
    "   \n",
    "    \n",
    "print(\"Column of M:\")\n",
    "for col in M.T:\n",
    "    print(col)"
   ]
  },
  {
   "cell_type": "markdown",
   "id": "82512180",
   "metadata": {},
   "source": [
    "d. Find the scalar multiplication of M for a given scalar."
   ]
  },
  {
   "cell_type": "code",
   "execution_count": 37,
   "id": "40ad6a84",
   "metadata": {},
   "outputs": [
    {
     "name": "stdout",
     "output_type": "stream",
     "text": [
      "M multiplied by 2:\n",
      "[[ 2  4]\n",
      " [ 6  8]\n",
      " [10 12]]\n"
     ]
    }
   ],
   "source": [
    "scalar=2\n",
    "M_scalar=scalar*M\n",
    "print(f\"M multiplied by {scalar}:\")\n",
    "print(M_scalar)"
   ]
  },
  {
   "cell_type": "markdown",
   "id": "5a83b71b",
   "metadata": {},
   "source": [
    "e. Find the transpose of the matrix M\n"
   ]
  },
  {
   "cell_type": "code",
   "execution_count": 39,
   "id": "791a945b",
   "metadata": {},
   "outputs": [
    {
     "name": "stdout",
     "output_type": "stream",
     "text": [
      "Transpose of M:\n",
      "[[1 3 5]\n",
      " [2 4 6]]\n"
     ]
    }
   ],
   "source": [
    "M_transpose=M.T\n",
    "print(\"Transpose of M:\")\n",
    "print(M_transpose)"
   ]
  },
  {
   "cell_type": "markdown",
   "id": "678266fb",
   "metadata": {},
   "source": [
    "# Practical 5"
   ]
  },
  {
   "cell_type": "markdown",
   "id": "adbb2438",
   "metadata": {},
   "source": [
    ": Write a program to do the following:\n"
   ]
  },
  {
   "cell_type": "markdown",
   "id": "efd79c7d",
   "metadata": {},
   "source": [
    "a. Find the vector –matrix multiplication of a r by c matrix M with an c-vector u."
   ]
  },
  {
   "cell_type": "code",
   "execution_count": 3,
   "id": "8bbfcd7a",
   "metadata": {},
   "outputs": [
    {
     "name": "stdout",
     "output_type": "stream",
     "text": [
      "Vector-matrix product of M with u:\n",
      "[ 50 122]\n"
     ]
    }
   ],
   "source": [
    "import numpy as np\n",
    "M=np.array([[1,2,3],[4,5,6]])\n",
    "u=np.array([7,8,9])\n",
    "M_u=np.dot(M,u)\n",
    "print(\"Vector-matrix product of M with u:\")\n",
    "print(M_u)\n"
   ]
  },
  {
   "cell_type": "markdown",
   "id": "b9a0c698",
   "metadata": {},
   "source": [
    "b. Find the matrix-matrix product of M with a c by p matrix N\n"
   ]
  },
  {
   "cell_type": "code",
   "execution_count": 4,
   "id": "0a4327f3",
   "metadata": {},
   "outputs": [
    {
     "name": "stdout",
     "output_type": "stream",
     "text": [
      "Matrix-Matrix product of M with N:\n",
      "[[ 76  82]\n",
      " [184 199]]\n"
     ]
    }
   ],
   "source": [
    "N=np.array([[10,11],[12,13],[14,15]])\n",
    "M_N=np.dot(M,N)\n",
    "print(\"Matrix-Matrix product of M with N:\")\n",
    "print(M_N)"
   ]
  },
  {
   "cell_type": "markdown",
   "id": "d937e4ea",
   "metadata": {},
   "source": [
    "# Practical 6"
   ]
  },
  {
   "cell_type": "markdown",
   "id": "e98838f1",
   "metadata": {},
   "source": [
    "Write a program to enter a matrix and check if it is invertible. If the inverse \n",
    "exists, find the inverse"
   ]
  },
  {
   "cell_type": "code",
   "execution_count": 6,
   "id": "1d87d1c7",
   "metadata": {},
   "outputs": [
    {
     "name": "stdout",
     "output_type": "stream",
     "text": [
      "Enter the size of the matrix :2 \n",
      "Enter the elements of the matrix row-wise :\n",
      "2 1\n",
      "3 4\n",
      "Inverse of the matrix:\n",
      "0.8 -0.2 \n",
      "-0.6 0.4 \n"
     ]
    }
   ],
   "source": [
    "import numpy as np\n",
    "n=int(input(\"Enter the size of the matrix :\"))\n",
    "print(\"Enter the elements of the matrix row-wise :\")\n",
    "matrix=[]\n",
    "for i in range(n):\n",
    "    row=list(map(float,input().split()))\n",
    "    matrix.append(row)\n",
    "if np.linalg.det(matrix)==0:\n",
    "    print(\"Matrix is not invertible\")\n",
    "else:\n",
    "    inverse=np.linalg.inv(matrix)\n",
    "    print(\"Inverse of the matrix:\")\n",
    "    for row in inverse:\n",
    "        for element in row:\n",
    "            print(round(element,2),end=\" \")\n",
    "        print()"
   ]
  },
  {
   "cell_type": "code",
   "execution_count": null,
   "id": "4c91bcc2",
   "metadata": {},
   "outputs": [],
   "source": []
  },
  {
   "cell_type": "code",
   "execution_count": null,
   "id": "35782028",
   "metadata": {},
   "outputs": [],
   "source": []
  }
 ],
 "metadata": {
  "kernelspec": {
   "display_name": "Python 3 (ipykernel)",
   "language": "python",
   "name": "python3"
  },
  "language_info": {
   "codemirror_mode": {
    "name": "ipython",
    "version": 3
   },
   "file_extension": ".py",
   "mimetype": "text/x-python",
   "name": "python",
   "nbconvert_exporter": "python",
   "pygments_lexer": "ipython3",
   "version": "3.9.12"
  }
 },
 "nbformat": 4,
 "nbformat_minor": 5
}
