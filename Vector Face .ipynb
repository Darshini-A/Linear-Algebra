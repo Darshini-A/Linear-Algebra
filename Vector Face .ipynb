{
 "cells": [
  {
   "cell_type": "code",
   "execution_count": 1,
   "id": "9ac4726d",
   "metadata": {
    "_cell_guid": "b1076dfc-b9ad-4769-8c92-a6c4dae69d19",
    "_uuid": "8f2839f25d086af736a60e9eeb907d3b93b6e0e5",
    "execution": {
     "iopub.execute_input": "2023-04-16T17:26:00.772712Z",
     "iopub.status.busy": "2023-04-16T17:26:00.772148Z",
     "iopub.status.idle": "2023-04-16T17:26:00.786359Z",
     "shell.execute_reply": "2023-04-16T17:26:00.785416Z"
    },
    "papermill": {
     "duration": 0.022074,
     "end_time": "2023-04-16T17:26:00.788833",
     "exception": false,
     "start_time": "2023-04-16T17:26:00.766759",
     "status": "completed"
    },
    "tags": []
   },
   "outputs": [],
   "source": [
    "# This Python 3 environment comes with many helpful analytics libraries installed\n",
    "# It is defined by the kaggle/python Docker image: https://github.com/kaggle/docker-python\n",
    "# For example, here's several helpful packages to load\n",
    "\n",
    "import numpy as np # linear algebra\n",
    "import pandas as pd # data processing, CSV file I/O (e.g. pd.read_csv)\n",
    "\n",
    "# Input data files are available in the read-only \"../input/\" directory\n",
    "# For example, running this (by clicking run or pressing Shift+Enter) will list all files under the input directory\n",
    "\n",
    "import os\n",
    "for dirname, _, filenames in os.walk('/kaggle/input'):\n",
    "    for filename in filenames:\n",
    "        print(os.path.join(dirname, filename))\n",
    "\n",
    "# You can write up to 20GB to the current directory (/kaggle/working/) that gets preserved as output when you create a version using \"Save & Run All\" \n",
    "# You can also write temporary files to /kaggle/temp/, but they won't be saved outside of the current session"
   ]
  },
  {
   "cell_type": "code",
   "execution_count": 2,
   "id": "f8371cbf",
   "metadata": {
    "execution": {
     "iopub.execute_input": "2023-04-16T17:26:00.795551Z",
     "iopub.status.busy": "2023-04-16T17:26:00.794738Z",
     "iopub.status.idle": "2023-04-16T17:26:00.800815Z",
     "shell.execute_reply": "2023-04-16T17:26:00.799546Z"
    },
    "papermill": {
     "duration": 0.012132,
     "end_time": "2023-04-16T17:26:00.803387",
     "exception": false,
     "start_time": "2023-04-16T17:26:00.791255",
     "status": "completed"
    },
    "tags": []
   },
   "outputs": [],
   "source": [
    "# Enter two distinct faces as vectors u and v\n",
    "\n",
    "import numpy as np\n",
    "u = np.array([4, 2, 1])\n",
    "v = np.array([2, 5, 3])"
   ]
  },
  {
   "cell_type": "code",
   "execution_count": 3,
   "id": "29e171ce",
   "metadata": {
    "execution": {
     "iopub.execute_input": "2023-04-16T17:26:00.809560Z",
     "iopub.status.busy": "2023-04-16T17:26:00.809139Z",
     "iopub.status.idle": "2023-04-16T17:26:00.817830Z",
     "shell.execute_reply": "2023-04-16T17:26:00.816530Z"
    },
    "papermill": {
     "duration": 0.015193,
     "end_time": "2023-04-16T17:26:00.820805",
     "exception": false,
     "start_time": "2023-04-16T17:26:00.805612",
     "status": "completed"
    },
    "tags": []
   },
   "outputs": [
    {
     "name": "stdout",
     "output_type": "stream",
     "text": [
      "New Face : [array([ 8, 12,  7])]\n"
     ]
    }
   ],
   "source": [
    "# Find a new face as a linear combination of u and v i.e. au+bv for a and b\n",
    "\n",
    "a = 1\n",
    "b = 2\n",
    "new_face = [a*u + b*v]\n",
    "print(\"New Face :\",new_face)"
   ]
  },
  {
   "cell_type": "code",
   "execution_count": 4,
   "id": "5721db06",
   "metadata": {
    "execution": {
     "iopub.execute_input": "2023-04-16T17:26:00.827415Z",
     "iopub.status.busy": "2023-04-16T17:26:00.826758Z",
     "iopub.status.idle": "2023-04-16T17:26:00.833513Z",
     "shell.execute_reply": "2023-04-16T17:26:00.832266Z"
    },
    "papermill": {
     "duration": 0.012816,
     "end_time": "2023-04-16T17:26:00.835960",
     "exception": false,
     "start_time": "2023-04-16T17:26:00.823144",
     "status": "completed"
    },
    "tags": []
   },
   "outputs": [
    {
     "name": "stdout",
     "output_type": "stream",
     "text": [
      "Average face : [array([3. , 3.5, 2. ])]\n"
     ]
    }
   ],
   "source": [
    "# Find the average face of the original faces\n",
    "\n",
    "avg_face = [(u+v)/2]\n",
    "print(\"Average face :\",avg_face)"
   ]
  }
 ],
 "metadata": {
  "kernelspec": {
   "display_name": "Python 3",
   "language": "python",
   "name": "python3"
  },
  "language_info": {
   "codemirror_mode": {
    "name": "ipython",
    "version": 3
   },
   "file_extension": ".py",
   "mimetype": "text/x-python",
   "name": "python",
   "nbconvert_exporter": "python",
   "pygments_lexer": "ipython3",
   "version": "3.7.12"
  },
  "papermill": {
   "default_parameters": {},
   "duration": 11.657873,
   "end_time": "2023-04-16T17:26:01.561057",
   "environment_variables": {},
   "exception": null,
   "input_path": "__notebook__.ipynb",
   "output_path": "__notebook__.ipynb",
   "parameters": {},
   "start_time": "2023-04-16T17:25:49.903184",
   "version": "2.4.0"
  }
 },
 "nbformat": 4,
 "nbformat_minor": 5
}
