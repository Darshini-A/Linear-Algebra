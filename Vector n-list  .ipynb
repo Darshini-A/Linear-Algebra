{
 "cells": [
  {
   "cell_type": "code",
   "execution_count": 1,
   "id": "7db904bc",
   "metadata": {
    "_cell_guid": "b1076dfc-b9ad-4769-8c92-a6c4dae69d19",
    "_uuid": "8f2839f25d086af736a60e9eeb907d3b93b6e0e5",
    "execution": {
     "iopub.execute_input": "2023-04-16T17:31:50.281187Z",
     "iopub.status.busy": "2023-04-16T17:31:50.280590Z",
     "iopub.status.idle": "2023-04-16T17:31:50.297934Z",
     "shell.execute_reply": "2023-04-16T17:31:50.296621Z"
    },
    "papermill": {
     "duration": 0.028041,
     "end_time": "2023-04-16T17:31:50.302085",
     "exception": false,
     "start_time": "2023-04-16T17:31:50.274044",
     "status": "completed"
    },
    "tags": []
   },
   "outputs": [],
   "source": [
    "# This Python 3 environment comes with many helpful analytics libraries installed\n",
    "# It is defined by the kaggle/python Docker image: https://github.com/kaggle/docker-python\n",
    "# For example, here's several helpful packages to load\n",
    "\n",
    "import numpy as np # linear algebra\n",
    "import pandas as pd # data processing, CSV file I/O (e.g. pd.read_csv)\n",
    "\n",
    "# Input data files are available in the read-only \"../input/\" directory\n",
    "# For example, running this (by clicking run or pressing Shift+Enter) will list all files under the input directory\n",
    "\n",
    "import os\n",
    "for dirname, _, filenames in os.walk('/kaggle/input'):\n",
    "    for filename in filenames:\n",
    "        print(os.path.join(dirname, filename))\n",
    "\n",
    "# You can write up to 20GB to the current directory (/kaggle/working/) that gets preserved as output when you create a version using \"Save & Run All\" \n",
    "# You can also write temporary files to /kaggle/temp/, but they won't be saved outside of the current session"
   ]
  },
  {
   "cell_type": "code",
   "execution_count": 2,
   "id": "b4066aca",
   "metadata": {
    "execution": {
     "iopub.execute_input": "2023-04-16T17:31:50.312229Z",
     "iopub.status.busy": "2023-04-16T17:31:50.311634Z",
     "iopub.status.idle": "2023-04-16T17:31:50.321520Z",
     "shell.execute_reply": "2023-04-16T17:31:50.320173Z"
    },
    "papermill": {
     "duration": 0.017736,
     "end_time": "2023-04-16T17:31:50.324126",
     "exception": false,
     "start_time": "2023-04-16T17:31:50.306390",
     "status": "completed"
    },
    "tags": []
   },
   "outputs": [
    {
     "name": "stdout",
     "output_type": "stream",
     "text": [
      "u = [2 1 3]\n"
     ]
    }
   ],
   "source": [
    "# Enter a vector u as a n-list\n",
    "\n",
    "u = np.array([2, 1, 3])\n",
    "print(\"u =\",u)"
   ]
  },
  {
   "cell_type": "code",
   "execution_count": 3,
   "id": "872d87b9",
   "metadata": {
    "execution": {
     "iopub.execute_input": "2023-04-16T17:31:50.331041Z",
     "iopub.status.busy": "2023-04-16T17:31:50.330553Z",
     "iopub.status.idle": "2023-04-16T17:31:50.336623Z",
     "shell.execute_reply": "2023-04-16T17:31:50.335761Z"
    },
    "papermill": {
     "duration": 0.012813,
     "end_time": "2023-04-16T17:31:50.339562",
     "exception": false,
     "start_time": "2023-04-16T17:31:50.326749",
     "status": "completed"
    },
    "tags": []
   },
   "outputs": [
    {
     "name": "stdout",
     "output_type": "stream",
     "text": [
      "v = [1 3 2]\n"
     ]
    }
   ],
   "source": [
    "# Enter another vector v as a n-list\n",
    "\n",
    "v = np.array([1, 3, 2])\n",
    "print(\"v =\",v)"
   ]
  },
  {
   "cell_type": "code",
   "execution_count": 4,
   "id": "1628de45",
   "metadata": {
    "execution": {
     "iopub.execute_input": "2023-04-16T17:31:50.347856Z",
     "iopub.status.busy": "2023-04-16T17:31:50.346645Z",
     "iopub.status.idle": "2023-04-16T17:31:50.355348Z",
     "shell.execute_reply": "2023-04-16T17:31:50.354042Z"
    },
    "papermill": {
     "duration": 0.015938,
     "end_time": "2023-04-16T17:31:50.358308",
     "exception": false,
     "start_time": "2023-04-16T17:31:50.342370",
     "status": "completed"
    },
    "tags": []
   },
   "outputs": [
    {
     "name": "stdout",
     "output_type": "stream",
     "text": [
      "a=0.1, b=2.2 : new vector = [array([2.4, 6.7, 4.7])]\n",
      "a=0.1, b=0.4 : new vector = [array([0.6, 1.3, 1.1])]\n",
      "a=0.1, b=0.3 : new vector = [array([0.5, 1. , 0.9])]\n",
      "a=1.0, b=2.2 : new vector = [array([4.2, 7.6, 7.4])]\n",
      "a=1.0, b=0.4 : new vector = [array([2.4, 2.2, 3.8])]\n",
      "a=1.0, b=0.3 : new vector = [array([2.3, 1.9, 3.6])]\n",
      "a=1.5, b=2.2 : new vector = [array([5.2, 8.1, 8.9])]\n",
      "a=1.5, b=0.4 : new vector = [array([3.4, 2.7, 5.3])]\n",
      "a=1.5, b=0.3 : new vector = [array([3.3, 2.4, 5.1])]\n"
     ]
    }
   ],
   "source": [
    "# Find the vector au+bv for different values of a and b\n",
    "\n",
    "A = [0.1, 1.0, 1.5]\n",
    "B = [2.2, 0.4, 0.3]\n",
    "for a in A:\n",
    "    for b in B:\n",
    "        new_vector = [a*u + b*v]\n",
    "        print(f\"a={a}, b={b} : new vector = {new_vector}\")"
   ]
  },
  {
   "cell_type": "code",
   "execution_count": 5,
   "id": "297f65c5",
   "metadata": {
    "execution": {
     "iopub.execute_input": "2023-04-16T17:31:50.366219Z",
     "iopub.status.busy": "2023-04-16T17:31:50.365556Z",
     "iopub.status.idle": "2023-04-16T17:31:50.371509Z",
     "shell.execute_reply": "2023-04-16T17:31:50.370269Z"
    },
    "papermill": {
     "duration": 0.012993,
     "end_time": "2023-04-16T17:31:50.374123",
     "exception": false,
     "start_time": "2023-04-16T17:31:50.361130",
     "status": "completed"
    },
    "tags": []
   },
   "outputs": [
    {
     "name": "stdout",
     "output_type": "stream",
     "text": [
      "Dot product of u and v : 11\n"
     ]
    }
   ],
   "source": [
    "#  Find the dot product of u and v\n",
    "\n",
    "dot_product = np.dot(u,v)\n",
    "print(\"Dot product of u and v :\",dot_product)"
   ]
  }
 ],
 "metadata": {
  "kernelspec": {
   "display_name": "Python 3",
   "language": "python",
   "name": "python3"
  },
  "language_info": {
   "codemirror_mode": {
    "name": "ipython",
    "version": 3
   },
   "file_extension": ".py",
   "mimetype": "text/x-python",
   "name": "python",
   "nbconvert_exporter": "python",
   "pygments_lexer": "ipython3",
   "version": "3.7.12"
  },
  "papermill": {
   "default_parameters": {},
   "duration": 11.452866,
   "end_time": "2023-04-16T17:31:51.100085",
   "environment_variables": {},
   "exception": null,
   "input_path": "__notebook__.ipynb",
   "output_path": "__notebook__.ipynb",
   "parameters": {},
   "start_time": "2023-04-16T17:31:39.647219",
   "version": "2.4.0"
  }
 },
 "nbformat": 4,
 "nbformat_minor": 5
}
