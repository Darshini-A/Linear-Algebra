{
 "cells": [
  {
   "cell_type": "code",
   "execution_count": 1,
   "id": "f1f9de7d",
   "metadata": {
    "_cell_guid": "b1076dfc-b9ad-4769-8c92-a6c4dae69d19",
    "_uuid": "8f2839f25d086af736a60e9eeb907d3b93b6e0e5",
    "execution": {
     "iopub.execute_input": "2023-04-16T19:04:26.175552Z",
     "iopub.status.busy": "2023-04-16T19:04:26.175111Z",
     "iopub.status.idle": "2023-04-16T19:04:26.187521Z",
     "shell.execute_reply": "2023-04-16T19:04:26.186606Z"
    },
    "papermill": {
     "duration": 0.019835,
     "end_time": "2023-04-16T19:04:26.190254",
     "exception": false,
     "start_time": "2023-04-16T19:04:26.170419",
     "status": "completed"
    },
    "tags": []
   },
   "outputs": [],
   "source": [
    "# This Python 3 environment comes with many helpful analytics libraries installed\n",
    "# It is defined by the kaggle/python Docker image: https://github.com/kaggle/docker-python\n",
    "# For example, here's several helpful packages to load\n",
    "\n",
    "import numpy as np # linear algebra\n",
    "import pandas as pd # data processing, CSV file I/O (e.g. pd.read_csv)\n",
    "\n",
    "# Input data files are available in the read-only \"../input/\" directory\n",
    "# For example, running this (by clicking run or pressing Shift+Enter) will list all files under the input directory\n",
    "\n",
    "import os\n",
    "for dirname, _, filenames in os.walk('/kaggle/input'):\n",
    "    for filename in filenames:\n",
    "        print(os.path.join(dirname, filename))\n",
    "\n",
    "# You can write up to 20GB to the current directory (/kaggle/working/) that gets preserved as output when you create a version using \"Save & Run All\" \n",
    "# You can also write temporary files to /kaggle/temp/, but they won't be saved outside of the current session"
   ]
  },
  {
   "cell_type": "code",
   "execution_count": 2,
   "id": "eb706aad",
   "metadata": {
    "execution": {
     "iopub.execute_input": "2023-04-16T19:04:26.196179Z",
     "iopub.status.busy": "2023-04-16T19:04:26.195785Z",
     "iopub.status.idle": "2023-04-16T19:04:26.203955Z",
     "shell.execute_reply": "2023-04-16T19:04:26.202650Z"
    },
    "papermill": {
     "duration": 0.014194,
     "end_time": "2023-04-16T19:04:26.206689",
     "exception": false,
     "start_time": "2023-04-16T19:04:26.192495",
     "status": "completed"
    },
    "tags": []
   },
   "outputs": [
    {
     "name": "stdout",
     "output_type": "stream",
     "text": [
      "Vector-matrix product of M with u:\n",
      "[9, 19, 8]\n"
     ]
    }
   ],
   "source": [
    "# Find the vector-matrix multiplication of a r by c matrix M with an c vector u\n",
    "\n",
    "M = [[2,3,1], [7,5,2], [3,2,1]]\n",
    "u = [1,2,1]\n",
    "M_u = [sum([M[i][j] * u[j] for j in range(len(u))]) for i in range(len(M))]\n",
    "print(\"Vector-matrix product of M with u:\")\n",
    "print(M_u)"
   ]
  },
  {
   "cell_type": "code",
   "execution_count": 3,
   "id": "d97b6c3f",
   "metadata": {
    "execution": {
     "iopub.execute_input": "2023-04-16T19:04:26.213093Z",
     "iopub.status.busy": "2023-04-16T19:04:26.212329Z",
     "iopub.status.idle": "2023-04-16T19:04:26.221093Z",
     "shell.execute_reply": "2023-04-16T19:04:26.219393Z"
    },
    "papermill": {
     "duration": 0.01497,
     "end_time": "2023-04-16T19:04:26.223835",
     "exception": false,
     "start_time": "2023-04-16T19:04:26.208865",
     "status": "completed"
    },
    "tags": []
   },
   "outputs": [
    {
     "name": "stdout",
     "output_type": "stream",
     "text": [
      "Matrix-Matrix product of M with N:\n",
      "[[12 13  9]\n",
      " [24 37 19]\n",
      " [10 16  8]]\n"
     ]
    }
   ],
   "source": [
    "# Find the matrix-matrix product of M with a c by p matrix N\n",
    "\n",
    "N = [[1,4,1],[3,1,2],[1,2,1]]\n",
    "M_N = np.dot(M,N)\n",
    "print(\"Matrix-Matrix product of M with N:\")\n",
    "print(M_N)"
   ]
  }
 ],
 "metadata": {
  "kernelspec": {
   "display_name": "Python 3",
   "language": "python",
   "name": "python3"
  },
  "language_info": {
   "codemirror_mode": {
    "name": "ipython",
    "version": 3
   },
   "file_extension": ".py",
   "mimetype": "text/x-python",
   "name": "python",
   "nbconvert_exporter": "python",
   "pygments_lexer": "ipython3",
   "version": "3.7.12"
  },
  "papermill": {
   "default_parameters": {},
   "duration": 10.756291,
   "end_time": "2023-04-16T19:04:26.847042",
   "environment_variables": {},
   "exception": null,
   "input_path": "__notebook__.ipynb",
   "output_path": "__notebook__.ipynb",
   "parameters": {},
   "start_time": "2023-04-16T19:04:16.090751",
   "version": "2.4.0"
  }
 },
 "nbformat": 4,
 "nbformat_minor": 5
}
